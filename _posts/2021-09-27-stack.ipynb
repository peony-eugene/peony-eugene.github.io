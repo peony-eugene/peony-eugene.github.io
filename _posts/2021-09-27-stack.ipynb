{
 "cells": [
  {
   "cell_type": "markdown",
   "source": [
    "# 스택 / 큐  \r\n",
    "## 스택  \r\n",
    "- 영어로 '쌓다' -> 쌓아올린 형태의 자료구조  \r\n",
    "- Last In First Out (가장 늦게 쌓인것이 먼저 삭제된다) \r\n",
    "- 연산  \r\n",
    "    - push: 삽입  \r\n",
    "        - 책 세권 쌓은 후 네번째 책을 세권의 쌓인책 위에 올리는 것  \r\n",
    "        - 리스트 [BOOK1, BOOK2, BOOK3] 에 BOOK4 push 후 [BOOK1, BOOK2, BOOK3, BOOK4] 로 추가 됨   \r\n",
    "        <img src=\"2021-09-27-17-57-12.png\" width=\"700\" height=\"300\">  \r\n",
    "\r\n",
    "\r\n",
    "    - pop: 삭제 \r\n",
    "        - 마지막 쌓은 것부터 삭제 -> [BOOK1, BOOK2, BOOK3, BOOK4]에서 BOOK4가 삭제  되어 [BOOK1, BOOK2, BOOK3]가 됨\r\n",
    "        <img src=\"2021-09-27-18-02-52.png\" width=\"700\" height=\"300\">\r\n",
    "\r\n",
    "\r\n",
    "\r\n",
    "\r\n",
    "    - peek: 확인"
   ],
   "metadata": {}
  },
  {
   "cell_type": "code",
   "execution_count": null,
   "source": [],
   "outputs": [],
   "metadata": {}
  },
  {
   "cell_type": "code",
   "execution_count": null,
   "source": [],
   "outputs": [],
   "metadata": {}
  },
  {
   "cell_type": "code",
   "execution_count": null,
   "source": [],
   "outputs": [],
   "metadata": {}
  },
  {
   "cell_type": "markdown",
   "source": [
    "## 큐  \r\n",
    "- 놀이동산에서 줄을 서서 기다리는 것과 같이 First In First Out( 먼저 들어온 자료가 먼저 삭제된다)"
   ],
   "metadata": {}
  }
 ],
 "metadata": {
  "orig_nbformat": 4,
  "language_info": {
   "name": "python",
   "version": "3.8.8",
   "mimetype": "text/x-python",
   "codemirror_mode": {
    "name": "ipython",
    "version": 3
   },
   "pygments_lexer": "ipython3",
   "nbconvert_exporter": "python",
   "file_extension": ".py"
  },
  "kernelspec": {
   "name": "python3",
   "display_name": "Python 3.8.8 64-bit ('base': conda)"
  },
  "interpreter": {
   "hash": "5fc0c61fe72426528940047897168be40749da9d7bf9cc35b9e0e67678419468"
  }
 },
 "nbformat": 4,
 "nbformat_minor": 2
}